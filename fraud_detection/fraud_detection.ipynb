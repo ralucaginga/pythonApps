{
  "cells": [
    {
      "cell_type": "markdown",
      "metadata": {
        "id": "SxLMHnORYNtG"
      },
      "source": [
        "# Fraud Detection\n",
        "\n",
        "Fraud adalah tindakan curang yang dilakukan sedemikian rupa, sehingga menguntungkan diri sendiri, kelompok, atau pihak lain (perorangan, perusahaan atau institusi). Terjadinya suatu fraud disebabkan oleh beberapa alasan dan faktor yang mempengaruhinya. Di dalam dunia pembayaran, transaksi fraud adalah transaksi yang tidak sah atau ilegal. Misalnya adalah transaksi kartu kredit yang tidak diketahui oleh pemilik kartu. Mereka yang melakukan transaksi fraud tersebut biasanya disebut fraudsters, dan menggunakan informasi kartu untuk membeli barang/jasa untuk kepentingan dirinya.\n"
      ]
    },
    {
      "cell_type": "markdown",
      "metadata": {
        "id": "fgPQLwptYNtT"
      },
      "source": [
        "## Deteksi penipuan menggunakan data yang tidak berlabel"
      ]
    },
    {
      "cell_type": "code",
      "execution_count": null,
      "metadata": {
        "id": "MgpUYcuaYNtX"
      },
      "outputs": [],
      "source": [
        "import numpy as np\n",
        "import pandas as pd\n",
        "\n",
        "import matplotlib.pyplot as plt\n",
        "\n",
        "%matplotlib inline"
      ]
    },
    {
      "cell_type": "code",
      "execution_count": null,
      "metadata": {
        "id": "EgWxNMIwYNtc",
        "outputId": "2e362e11-004d-4847-bf7a-e68c0c6c799c"
      },
      "outputs": [
        {
          "data": {
            "text/html": [
              "<div>\n",
              "<style scoped>\n",
              "    .dataframe tbody tr th:only-of-type {\n",
              "        vertical-align: middle;\n",
              "    }\n",
              "\n",
              "    .dataframe tbody tr th {\n",
              "        vertical-align: top;\n",
              "    }\n",
              "\n",
              "    .dataframe thead th {\n",
              "        text-align: right;\n",
              "    }\n",
              "</style>\n",
              "<table border=\"1\" class=\"dataframe\">\n",
              "  <thead>\n",
              "    <tr style=\"text-align: right;\">\n",
              "      <th></th>\n",
              "      <th>Unnamed: 0</th>\n",
              "      <th>age</th>\n",
              "      <th>gender</th>\n",
              "      <th>category</th>\n",
              "      <th>amount</th>\n",
              "      <th>fraud</th>\n",
              "    </tr>\n",
              "  </thead>\n",
              "  <tbody>\n",
              "    <tr>\n",
              "      <th>0</th>\n",
              "      <td>171915</td>\n",
              "      <td>3</td>\n",
              "      <td>F</td>\n",
              "      <td>es_transportation</td>\n",
              "      <td>49.71</td>\n",
              "      <td>0</td>\n",
              "    </tr>\n",
              "    <tr>\n",
              "      <th>1</th>\n",
              "      <td>426989</td>\n",
              "      <td>4</td>\n",
              "      <td>F</td>\n",
              "      <td>es_health</td>\n",
              "      <td>39.29</td>\n",
              "      <td>0</td>\n",
              "    </tr>\n",
              "    <tr>\n",
              "      <th>2</th>\n",
              "      <td>310539</td>\n",
              "      <td>3</td>\n",
              "      <td>F</td>\n",
              "      <td>es_transportation</td>\n",
              "      <td>18.76</td>\n",
              "      <td>0</td>\n",
              "    </tr>\n",
              "    <tr>\n",
              "      <th>3</th>\n",
              "      <td>215216</td>\n",
              "      <td>4</td>\n",
              "      <td>M</td>\n",
              "      <td>es_transportation</td>\n",
              "      <td>13.95</td>\n",
              "      <td>0</td>\n",
              "    </tr>\n",
              "    <tr>\n",
              "      <th>4</th>\n",
              "      <td>569244</td>\n",
              "      <td>2</td>\n",
              "      <td>M</td>\n",
              "      <td>es_transportation</td>\n",
              "      <td>49.87</td>\n",
              "      <td>0</td>\n",
              "    </tr>\n",
              "  </tbody>\n",
              "</table>\n",
              "</div>"
            ],
            "text/plain": [
              "   Unnamed: 0 age gender           category  amount  fraud\n",
              "0      171915   3      F  es_transportation   49.71      0\n",
              "1      426989   4      F          es_health   39.29      0\n",
              "2      310539   3      F  es_transportation   18.76      0\n",
              "3      215216   4      M  es_transportation   13.95      0\n",
              "4      569244   2      M  es_transportation   49.87      0"
            ]
          },
          "execution_count": 55,
          "metadata": {},
          "output_type": "execute_result"
        }
      ],
      "source": [
        "df = pd.read_csv('data/banksim.csv')\n",
        "df.head()"
      ]
    },
    {
      "cell_type": "code",
      "execution_count": null,
      "metadata": {
        "id": "0ZIZtgU0YNtg",
        "outputId": "08e3725c-a393-4843-99fd-0825043940f2"
      },
      "outputs": [
        {
          "data": {
            "text/plain": [
              "(7200, 6)"
            ]
          },
          "execution_count": 56,
          "metadata": {},
          "output_type": "execute_result"
        }
      ],
      "source": [
        "df.shape"
      ]
    },
    {
      "cell_type": "code",
      "execution_count": null,
      "metadata": {
        "id": "aO_SnUjQYNti",
        "outputId": "1a1831e7-6b30-4150-e5e6-4e4b9e6ca76b"
      },
      "outputs": [
        {
          "data": {
            "text/html": [
              "<div>\n",
              "<style scoped>\n",
              "    .dataframe tbody tr th:only-of-type {\n",
              "        vertical-align: middle;\n",
              "    }\n",
              "\n",
              "    .dataframe tbody tr th {\n",
              "        vertical-align: top;\n",
              "    }\n",
              "\n",
              "    .dataframe thead th {\n",
              "        text-align: right;\n",
              "    }\n",
              "</style>\n",
              "<table border=\"1\" class=\"dataframe\">\n",
              "  <thead>\n",
              "    <tr style=\"text-align: right;\">\n",
              "      <th></th>\n",
              "      <th>Unnamed: 0</th>\n",
              "      <th>amount</th>\n",
              "      <th>fraud</th>\n",
              "    </tr>\n",
              "    <tr>\n",
              "      <th>category</th>\n",
              "      <th></th>\n",
              "      <th></th>\n",
              "      <th></th>\n",
              "    </tr>\n",
              "  </thead>\n",
              "  <tbody>\n",
              "    <tr>\n",
              "      <th>es_barsandrestaurants</th>\n",
              "      <td>267372.707865</td>\n",
              "      <td>43.841793</td>\n",
              "      <td>0.022472</td>\n",
              "    </tr>\n",
              "    <tr>\n",
              "      <th>es_contents</th>\n",
              "      <td>335906.153846</td>\n",
              "      <td>55.170000</td>\n",
              "      <td>0.000000</td>\n",
              "    </tr>\n",
              "    <tr>\n",
              "      <th>es_fashion</th>\n",
              "      <td>286952.226804</td>\n",
              "      <td>59.780769</td>\n",
              "      <td>0.020619</td>\n",
              "    </tr>\n",
              "    <tr>\n",
              "      <th>es_food</th>\n",
              "      <td>334978.976190</td>\n",
              "      <td>35.216050</td>\n",
              "      <td>0.000000</td>\n",
              "    </tr>\n",
              "    <tr>\n",
              "      <th>es_health</th>\n",
              "      <td>335355.176955</td>\n",
              "      <td>126.604704</td>\n",
              "      <td>0.242798</td>\n",
              "    </tr>\n",
              "    <tr>\n",
              "      <th>es_home</th>\n",
              "      <td>248312.583333</td>\n",
              "      <td>120.688317</td>\n",
              "      <td>0.208333</td>\n",
              "    </tr>\n",
              "    <tr>\n",
              "      <th>es_hotelservices</th>\n",
              "      <td>280138.548387</td>\n",
              "      <td>172.756245</td>\n",
              "      <td>0.548387</td>\n",
              "    </tr>\n",
              "    <tr>\n",
              "      <th>es_hyper</th>\n",
              "      <td>244440.712500</td>\n",
              "      <td>46.788180</td>\n",
              "      <td>0.125000</td>\n",
              "    </tr>\n",
              "    <tr>\n",
              "      <th>es_leisure</th>\n",
              "      <td>186541.307692</td>\n",
              "      <td>229.757600</td>\n",
              "      <td>1.000000</td>\n",
              "    </tr>\n",
              "    <tr>\n",
              "      <th>es_otherservices</th>\n",
              "      <td>241279.000000</td>\n",
              "      <td>149.648960</td>\n",
              "      <td>0.600000</td>\n",
              "    </tr>\n",
              "    <tr>\n",
              "      <th>es_sportsandtoys</th>\n",
              "      <td>238775.539474</td>\n",
              "      <td>157.251737</td>\n",
              "      <td>0.657895</td>\n",
              "    </tr>\n",
              "    <tr>\n",
              "      <th>es_tech</th>\n",
              "      <td>310473.948718</td>\n",
              "      <td>132.852862</td>\n",
              "      <td>0.179487</td>\n",
              "    </tr>\n",
              "    <tr>\n",
              "      <th>es_transportation</th>\n",
              "      <td>295733.881674</td>\n",
              "      <td>27.422014</td>\n",
              "      <td>0.000000</td>\n",
              "    </tr>\n",
              "    <tr>\n",
              "      <th>es_travel</th>\n",
              "      <td>338897.777778</td>\n",
              "      <td>231.818656</td>\n",
              "      <td>0.944444</td>\n",
              "    </tr>\n",
              "    <tr>\n",
              "      <th>es_wellnessandbeauty</th>\n",
              "      <td>275085.979798</td>\n",
              "      <td>66.167078</td>\n",
              "      <td>0.060606</td>\n",
              "    </tr>\n",
              "  </tbody>\n",
              "</table>\n",
              "</div>"
            ],
            "text/plain": [
              "                          Unnamed: 0      amount     fraud\n",
              "category                                                  \n",
              "es_barsandrestaurants  267372.707865   43.841793  0.022472\n",
              "es_contents            335906.153846   55.170000  0.000000\n",
              "es_fashion             286952.226804   59.780769  0.020619\n",
              "es_food                334978.976190   35.216050  0.000000\n",
              "es_health              335355.176955  126.604704  0.242798\n",
              "es_home                248312.583333  120.688317  0.208333\n",
              "es_hotelservices       280138.548387  172.756245  0.548387\n",
              "es_hyper               244440.712500   46.788180  0.125000\n",
              "es_leisure             186541.307692  229.757600  1.000000\n",
              "es_otherservices       241279.000000  149.648960  0.600000\n",
              "es_sportsandtoys       238775.539474  157.251737  0.657895\n",
              "es_tech                310473.948718  132.852862  0.179487\n",
              "es_transportation      295733.881674   27.422014  0.000000\n",
              "es_travel              338897.777778  231.818656  0.944444\n",
              "es_wellnessandbeauty   275085.979798   66.167078  0.060606"
            ]
          },
          "execution_count": 4,
          "metadata": {},
          "output_type": "execute_result"
        }
      ],
      "source": [
        "df.groupby('category').mean()"
      ]
    },
    {
      "cell_type": "markdown",
      "metadata": {
        "id": "NyjH9JYPYNtl"
      },
      "source": [
        "kita dapat melihat dari rata-rata kategori bahwa penipuan lebih banyak terjadi di kategori ini"
      ]
    },
    {
      "cell_type": "markdown",
      "metadata": {
        "id": "VIeqaqWKYNtm"
      },
      "source": [
        "### segmentasi kostumer"
      ]
    },
    {
      "cell_type": "code",
      "execution_count": null,
      "metadata": {
        "id": "-ynGLY3SYNto",
        "outputId": "044f823a-9108-4301-946c-278c2f7d0d46"
      },
      "outputs": [
        {
          "data": {
            "text/html": [
              "<div>\n",
              "<style scoped>\n",
              "    .dataframe tbody tr th:only-of-type {\n",
              "        vertical-align: middle;\n",
              "    }\n",
              "\n",
              "    .dataframe tbody tr th {\n",
              "        vertical-align: top;\n",
              "    }\n",
              "\n",
              "    .dataframe thead th {\n",
              "        text-align: right;\n",
              "    }\n",
              "</style>\n",
              "<table border=\"1\" class=\"dataframe\">\n",
              "  <thead>\n",
              "    <tr style=\"text-align: right;\">\n",
              "      <th></th>\n",
              "      <th>Unnamed: 0</th>\n",
              "      <th>amount</th>\n",
              "      <th>fraud</th>\n",
              "    </tr>\n",
              "    <tr>\n",
              "      <th>age</th>\n",
              "      <th></th>\n",
              "      <th></th>\n",
              "      <th></th>\n",
              "    </tr>\n",
              "  </thead>\n",
              "  <tbody>\n",
              "    <tr>\n",
              "      <th>0</th>\n",
              "      <td>327520.450000</td>\n",
              "      <td>49.468935</td>\n",
              "      <td>0.050000</td>\n",
              "    </tr>\n",
              "    <tr>\n",
              "      <th>1</th>\n",
              "      <td>290985.509116</td>\n",
              "      <td>35.622829</td>\n",
              "      <td>0.026648</td>\n",
              "    </tr>\n",
              "    <tr>\n",
              "      <th>2</th>\n",
              "      <td>296867.958851</td>\n",
              "      <td>37.228665</td>\n",
              "      <td>0.028718</td>\n",
              "    </tr>\n",
              "    <tr>\n",
              "      <th>3</th>\n",
              "      <td>291471.417346</td>\n",
              "      <td>37.279338</td>\n",
              "      <td>0.023283</td>\n",
              "    </tr>\n",
              "    <tr>\n",
              "      <th>4</th>\n",
              "      <td>306041.396403</td>\n",
              "      <td>36.197985</td>\n",
              "      <td>0.035966</td>\n",
              "    </tr>\n",
              "    <tr>\n",
              "      <th>5</th>\n",
              "      <td>290885.960859</td>\n",
              "      <td>37.547521</td>\n",
              "      <td>0.023990</td>\n",
              "    </tr>\n",
              "    <tr>\n",
              "      <th>6</th>\n",
              "      <td>299193.716561</td>\n",
              "      <td>36.700852</td>\n",
              "      <td>0.022293</td>\n",
              "    </tr>\n",
              "    <tr>\n",
              "      <th>U</th>\n",
              "      <td>288372.181818</td>\n",
              "      <td>39.117000</td>\n",
              "      <td>0.000000</td>\n",
              "    </tr>\n",
              "  </tbody>\n",
              "</table>\n",
              "</div>"
            ],
            "text/plain": [
              "        Unnamed: 0     amount     fraud\n",
              "age                                    \n",
              "0    327520.450000  49.468935  0.050000\n",
              "1    290985.509116  35.622829  0.026648\n",
              "2    296867.958851  37.228665  0.028718\n",
              "3    291471.417346  37.279338  0.023283\n",
              "4    306041.396403  36.197985  0.035966\n",
              "5    290885.960859  37.547521  0.023990\n",
              "6    299193.716561  36.700852  0.022293\n",
              "U    288372.181818  39.117000  0.000000"
            ]
          },
          "execution_count": 7,
          "metadata": {},
          "output_type": "execute_result"
        }
      ],
      "source": [
        "df.groupby('age').mean()"
      ]
    },
    {
      "cell_type": "code",
      "execution_count": null,
      "metadata": {
        "id": "Gb0eHIYDYNtp",
        "outputId": "3f3eb4f6-8ef9-4c94-8ab7-a605f0750336"
      },
      "outputs": [
        {
          "data": {
            "text/plain": [
              "2    2333\n",
              "3    1718\n",
              "4    1279\n",
              "5     792\n",
              "1     713\n",
              "6     314\n",
              "0      40\n",
              "U      11\n",
              "Name: age, dtype: int64"
            ]
          },
          "execution_count": 8,
          "metadata": {},
          "output_type": "execute_result"
        }
      ],
      "source": [
        "df['age'].value_counts()"
      ]
    },
    {
      "cell_type": "markdown",
      "metadata": {
        "id": "juYAJ16eYNtr"
      },
      "source": [
        "kita dapat melihat jumlah rata-rata yang dibelanjakan serta terjadinya penipuan agak mirip di seluruh kelompok. Kelompok usia '0' menonjol tetapi karena hanya ada 40 kasus, tidak masuk akal untuk membaginya dalam kelompok terpisah dan menjalankan model terpisah pada mereka."
      ]
    },
    {
      "cell_type": "markdown",
      "metadata": {
        "id": "I4fmTtVcYNts"
      },
      "source": [
        "### menggunakan statistik untuk mendefinisikan normal fraud"
      ]
    },
    {
      "cell_type": "markdown",
      "metadata": {
        "id": "oHNOghvxYNts"
      },
      "source": [
        "contoh ini memberi Kita gambaran tentang bagaimana transaksi penipuan berbeda secara struktural dari transaksi normal."
      ]
    },
    {
      "cell_type": "code",
      "execution_count": null,
      "metadata": {
        "id": "PFU6Znm1YNtt",
        "outputId": "d594653d-5ab2-4f11-cc8a-c0233c9d81ce"
      },
      "outputs": [
        {
          "data": {
            "image/png": "[encoded data removed]",
            "text/plain": [
              "<Figure size 432x288 with 1 Axes>"
            ]
          },
          "metadata": {
            "needs_background": "light"
          },
          "output_type": "display_data"
        }
      ],
      "source": [
        "df_fraud = df.loc[df.fraud == 1] \n",
        "df_non_fraud = df.loc[df.fraud == 0]\n",
        "\n",
        "plt.hist(df_fraud.amount, alpha=0.5, label='fraud')\n",
        "plt.hist(df_non_fraud.amount, alpha=0.5, label='nonfraud')\n",
        "plt.legend();"
      ]
    },
    {
      "cell_type": "markdown",
      "metadata": {
        "id": "MZg5cAXAYNtv"
      },
      "source": [
        "karena jumlah pengamatan penipuan jauh lebih kecil, sulit untuk melihat distribusi penuh. Meskipun demikian, kita dapat melihat bahwa transaksi penipuan cenderung berada di sisi yang lebih besar dibandingkan dengan pengamatan normal. Ini kabar baik, karena membantu kita nantinya dalam mendeteksi fraud dari non-fraud."
      ]
    },
    {
      "cell_type": "markdown",
      "metadata": {
        "id": "AH00hhZcYNtv"
      },
      "source": [
        "### Scaling data"
      ]
    },
    {
      "cell_type": "code",
      "execution_count": null,
      "metadata": {
        "id": "U4diFchMYNtx"
      },
      "outputs": [],
      "source": [
        "df.drop('Unnamed: 0', axis=1, inplace=True)"
      ]
    },
    {
      "cell_type": "code",
      "execution_count": null,
      "metadata": {
        "id": "Z5ZqrCXgYNtx",
        "outputId": "be0cc5b9-980e-47a4-ee67-637f1b9d64aa"
      },
      "outputs": [
        {
          "data": {
            "text/html": [
              "<div>\n",
              "<style scoped>\n",
              "    .dataframe tbody tr th:only-of-type {\n",
              "        vertical-align: middle;\n",
              "    }\n",
              "\n",
              "    .dataframe tbody tr th {\n",
              "        vertical-align: top;\n",
              "    }\n",
              "\n",
              "    .dataframe thead th {\n",
              "        text-align: right;\n",
              "    }\n",
              "</style>\n",
              "<table border=\"1\" class=\"dataframe\">\n",
              "  <thead>\n",
              "    <tr style=\"text-align: right;\">\n",
              "      <th></th>\n",
              "      <th>age</th>\n",
              "      <th>gender</th>\n",
              "      <th>category</th>\n",
              "      <th>amount</th>\n",
              "      <th>fraud</th>\n",
              "    </tr>\n",
              "  </thead>\n",
              "  <tbody>\n",
              "    <tr>\n",
              "      <th>0</th>\n",
              "      <td>3</td>\n",
              "      <td>F</td>\n",
              "      <td>es_transportation</td>\n",
              "      <td>49.71</td>\n",
              "      <td>0</td>\n",
              "    </tr>\n",
              "    <tr>\n",
              "      <th>1</th>\n",
              "      <td>4</td>\n",
              "      <td>F</td>\n",
              "      <td>es_health</td>\n",
              "      <td>39.29</td>\n",
              "      <td>0</td>\n",
              "    </tr>\n",
              "    <tr>\n",
              "      <th>2</th>\n",
              "      <td>3</td>\n",
              "      <td>F</td>\n",
              "      <td>es_transportation</td>\n",
              "      <td>18.76</td>\n",
              "      <td>0</td>\n",
              "    </tr>\n",
              "    <tr>\n",
              "      <th>3</th>\n",
              "      <td>4</td>\n",
              "      <td>M</td>\n",
              "      <td>es_transportation</td>\n",
              "      <td>13.95</td>\n",
              "      <td>0</td>\n",
              "    </tr>\n",
              "    <tr>\n",
              "      <th>4</th>\n",
              "      <td>2</td>\n",
              "      <td>M</td>\n",
              "      <td>es_transportation</td>\n",
              "      <td>49.87</td>\n",
              "      <td>0</td>\n",
              "    </tr>\n",
              "  </tbody>\n",
              "</table>\n",
              "</div>"
            ],
            "text/plain": [
              "  age gender           category  amount  fraud\n",
              "0   3      F  es_transportation   49.71      0\n",
              "1   4      F          es_health   39.29      0\n",
              "2   3      F  es_transportation   18.76      0\n",
              "3   4      M  es_transportation   13.95      0\n",
              "4   2      M  es_transportation   49.87      0"
            ]
          },
          "execution_count": 58,
          "metadata": {},
          "output_type": "execute_result"
        }
      ],
      "source": [
        "df.head()"
      ]
    },
    {
      "cell_type": "code",
      "execution_count": null,
      "metadata": {
        "id": "MVwnDHHXYNty",
        "outputId": "2512708b-2a03-441b-dc1c-a0dfec3efcdb"
      },
      "outputs": [
        {
          "data": {
            "text/plain": [
              "F    3972\n",
              "M    3212\n",
              "E      11\n",
              "U       5\n",
              "Name: gender, dtype: int64"
            ]
          },
          "execution_count": 59,
          "metadata": {},
          "output_type": "execute_result"
        }
      ],
      "source": [
        "df.gender.value_counts()"
      ]
    },
    {
      "cell_type": "code",
      "execution_count": null,
      "metadata": {
        "id": "xY8mN0f9YNtz"
      },
      "outputs": [],
      "source": [
        "df = df.drop(df[(df.gender == \"E\") | (df.gender == \"U\")].index)"
      ]
    },
    {
      "cell_type": "code",
      "execution_count": null,
      "metadata": {
        "id": "2qjJY7zFYNt0",
        "outputId": "fd8dc402-816b-4a56-9476-f5a09c030826"
      },
      "outputs": [
        {
          "data": {
            "text/plain": [
              "array(['F', 'M'], dtype=object)"
            ]
          },
          "execution_count": 61,
          "metadata": {},
          "output_type": "execute_result"
        }
      ],
      "source": [
        "df.gender.unique()"
      ]
    },
    {
      "cell_type": "code",
      "execution_count": null,
      "metadata": {
        "id": "Ax_xN65VYNt2"
      },
      "outputs": [],
      "source": [
        "from sklearn.preprocessing import LabelEncoder\n",
        "\n",
        "le = LabelEncoder()\n",
        "gender = le.fit_transform(df.gender)"
      ]
    },
    {
      "cell_type": "code",
      "execution_count": null,
      "metadata": {
        "id": "p3SptN5fYNt3"
      },
      "outputs": [],
      "source": [
        "df['M'] = pd.get_dummies(df.gender)['M']"
      ]
    },
    {
      "cell_type": "code",
      "execution_count": null,
      "metadata": {
        "id": "jn3q2IeyYNt3"
      },
      "outputs": [],
      "source": [
        "df = pd.concat([df,pd.get_dummies(df.category, drop_first=True)],axis=1)"
      ]
    },
    {
      "cell_type": "code",
      "execution_count": null,
      "metadata": {
        "id": "f0ScwpS8YNt4"
      },
      "outputs": [],
      "source": [
        "y = df.fraud.copy()"
      ]
    },
    {
      "cell_type": "code",
      "execution_count": null,
      "metadata": {
        "id": "CvLmE9JpYNt4"
      },
      "outputs": [],
      "source": [
        "df.drop(['gender', 'fraud', 'category'], axis=1, inplace=True)"
      ]
    },
    {
      "cell_type": "code",
      "execution_count": null,
      "metadata": {
        "id": "xlVEPyZlYNt5",
        "outputId": "31b28746-db9c-4620-d65c-8df9b4a8296d"
      },
      "outputs": [
        {
          "data": {
            "text/html": [
              "<div>\n",
              "<style scoped>\n",
              "    .dataframe tbody tr th:only-of-type {\n",
              "        vertical-align: middle;\n",
              "    }\n",
              "\n",
              "    .dataframe tbody tr th {\n",
              "        vertical-align: top;\n",
              "    }\n",
              "\n",
              "    .dataframe thead th {\n",
              "        text-align: right;\n",
              "    }\n",
              "</style>\n",
              "<table border=\"1\" class=\"dataframe\">\n",
              "  <thead>\n",
              "    <tr style=\"text-align: right;\">\n",
              "      <th></th>\n",
              "      <th>age</th>\n",
              "      <th>amount</th>\n",
              "      <th>M</th>\n",
              "      <th>es_contents</th>\n",
              "      <th>es_fashion</th>\n",
              "      <th>es_food</th>\n",
              "      <th>es_health</th>\n",
              "      <th>es_home</th>\n",
              "      <th>es_hotelservices</th>\n",
              "      <th>es_hyper</th>\n",
              "      <th>es_leisure</th>\n",
              "      <th>es_otherservices</th>\n",
              "      <th>es_sportsandtoys</th>\n",
              "      <th>es_tech</th>\n",
              "      <th>es_transportation</th>\n",
              "      <th>es_travel</th>\n",
              "      <th>es_wellnessandbeauty</th>\n",
              "    </tr>\n",
              "  </thead>\n",
              "  <tbody>\n",
              "    <tr>\n",
              "      <th>0</th>\n",
              "      <td>3</td>\n",
              "      <td>49.71</td>\n",
              "      <td>0</td>\n",
              "      <td>0</td>\n",
              "      <td>0</td>\n",
              "      <td>0</td>\n",
              "      <td>0</td>\n",
              "      <td>0</td>\n",
              "      <td>0</td>\n",
              "      <td>0</td>\n",
              "      <td>0</td>\n",
              "      <td>0</td>\n",
              "      <td>0</td>\n",
              "      <td>0</td>\n",
              "      <td>1</td>\n",
              "      <td>0</td>\n",
              "      <td>0</td>\n",
              "    </tr>\n",
              "    <tr>\n",
              "      <th>1</th>\n",
              "      <td>4</td>\n",
              "      <td>39.29</td>\n",
              "      <td>0</td>\n",
              "      <td>0</td>\n",
              "      <td>0</td>\n",
              "      <td>0</td>\n",
              "      <td>1</td>\n",
              "      <td>0</td>\n",
              "      <td>0</td>\n",
              "      <td>0</td>\n",
              "      <td>0</td>\n",
              "      <td>0</td>\n",
              "      <td>0</td>\n",
              "      <td>0</td>\n",
              "      <td>0</td>\n",
              "      <td>0</td>\n",
              "      <td>0</td>\n",
              "    </tr>\n",
              "    <tr>\n",
              "      <th>2</th>\n",
              "      <td>3</td>\n",
              "      <td>18.76</td>\n",
              "      <td>0</td>\n",
              "      <td>0</td>\n",
              "      <td>0</td>\n",
              "      <td>0</td>\n",
              "      <td>0</td>\n",
              "      <td>0</td>\n",
              "      <td>0</td>\n",
              "      <td>0</td>\n",
              "      <td>0</td>\n",
              "      <td>0</td>\n",
              "      <td>0</td>\n",
              "      <td>0</td>\n",
              "      <td>1</td>\n",
              "      <td>0</td>\n",
              "      <td>0</td>\n",
              "    </tr>\n",
              "    <tr>\n",
              "      <th>3</th>\n",
              "      <td>4</td>\n",
              "      <td>13.95</td>\n",
              "      <td>1</td>\n",
              "      <td>0</td>\n",
              "      <td>0</td>\n",
              "      <td>0</td>\n",
              "      <td>0</td>\n",
              "      <td>0</td>\n",
              "      <td>0</td>\n",
              "      <td>0</td>\n",
              "      <td>0</td>\n",
              "      <td>0</td>\n",
              "      <td>0</td>\n",
              "      <td>0</td>\n",
              "      <td>1</td>\n",
              "      <td>0</td>\n",
              "      <td>0</td>\n",
              "    </tr>\n",
              "    <tr>\n",
              "      <th>4</th>\n",
              "      <td>2</td>\n",
              "      <td>49.87</td>\n",
              "      <td>1</td>\n",
              "      <td>0</td>\n",
              "      <td>0</td>\n",
              "      <td>0</td>\n",
              "      <td>0</td>\n",
              "      <td>0</td>\n",
              "      <td>0</td>\n",
              "      <td>0</td>\n",
              "      <td>0</td>\n",
              "      <td>0</td>\n",
              "      <td>0</td>\n",
              "      <td>0</td>\n",
              "      <td>1</td>\n",
              "      <td>0</td>\n",
              "      <td>0</td>\n",
              "    </tr>\n",
              "  </tbody>\n",
              "</table>\n",
              "</div>"
            ],
            "text/plain": [
              "  age  amount  M  es_contents  es_fashion  es_food  es_health  es_home  \\\n",
              "0   3   49.71  0            0           0        0          0        0   \n",
              "1   4   39.29  0            0           0        0          1        0   \n",
              "2   3   18.76  0            0           0        0          0        0   \n",
              "3   4   13.95  1            0           0        0          0        0   \n",
              "4   2   49.87  1            0           0        0          0        0   \n",
              "\n",
              "   es_hotelservices  es_hyper  es_leisure  es_otherservices  es_sportsandtoys  \\\n",
              "0                 0         0           0                 0                 0   \n",
              "1                 0         0           0                 0                 0   \n",
              "2                 0         0           0                 0                 0   \n",
              "3                 0         0           0                 0                 0   \n",
              "4                 0         0           0                 0                 0   \n",
              "\n",
              "   es_tech  es_transportation  es_travel  es_wellnessandbeauty  \n",
              "0        0                  1          0                     0  \n",
              "1        0                  0          0                     0  \n",
              "2        0                  1          0                     0  \n",
              "3        0                  1          0                     0  \n",
              "4        0                  1          0                     0  "
            ]
          },
          "execution_count": 67,
          "metadata": {},
          "output_type": "execute_result"
        }
      ],
      "source": [
        "df.head()"
      ]
    },
    {
      "cell_type": "code",
      "execution_count": null,
      "metadata": {
        "id": "lUwG6sUsYNt6",
        "outputId": "f3d95813-f363-4b30-d7da-a01ff497884c"
      },
      "outputs": [
        {
          "data": {
            "text/plain": [
              "(7184, 17)"
            ]
          },
          "execution_count": 68,
          "metadata": {},
          "output_type": "execute_result"
        }
      ],
      "source": [
        "df.shape"
      ]
    },
    {
      "cell_type": "code",
      "execution_count": null,
      "metadata": {
        "id": "PN-m15h0YNt6",
        "outputId": "7aa3952d-ac90-431d-bd6f-02a6f315c2ab"
      },
      "outputs": [
        {
          "data": {
            "text/plain": [
              "(7184,)"
            ]
          },
          "execution_count": 69,
          "metadata": {},
          "output_type": "execute_result"
        }
      ],
      "source": [
        "y.shape"
      ]
    },
    {
      "cell_type": "code",
      "execution_count": null,
      "metadata": {
        "id": "a24IQ1e9YNt7"
      },
      "outputs": [],
      "source": [
        "from sklearn.preprocessing import MinMaxScaler\n",
        "X = np.array(df).astype(np.float)\n",
        "\n",
        "scaler = MinMaxScaler()\n",
        "X_scaled = scaler.fit_transform(X)"
      ]
    },
    {
      "cell_type": "code",
      "execution_count": null,
      "metadata": {
        "id": "RzJbq_GZYNt7",
        "outputId": "0f403726-634e-45bd-ebaf-cdcfab156abd"
      },
      "outputs": [
        {
          "data": {
            "text/plain": [
              "(7184, 17)"
            ]
          },
          "execution_count": 52,
          "metadata": {},
          "output_type": "execute_result"
        }
      ],
      "source": [
        "X_scaled.shape"
      ]
    },
    {
      "cell_type": "markdown",
      "metadata": {
        "id": "Cmd_jRyBYNt8"
      },
      "source": [
        "### menggunakan metode ``K-means clustering``\n",
        "\n",
        "K-Means Clustering adalah suatu metode penganalisaan data atau metode Data Mining yang melakukan proses pemodelan unssupervised learning dan menggunakan metode yang mengelompokan data berbagai partisi.\n",
        "\n",
        "K Means Clustering memiliki objective yaitu meminimalisasi object function yang telah di atur pada proses clasterisasi. Dengan cara minimalisasi variasi antar 1 cluster dengan maksimalisasi variasi dengan data di cluster lainnya.\n",
        "\n",
        "K means clustering merupakan metode algoritma dasar,yang diterapkan sebagai berikut\n",
        "\n",
        "- Menentukan jumlah cluster\n",
        "- Secara acak mendistribusikan data cluster\n",
        "- Menghitung rata rata dari data yang ada di cluster.\n",
        "- Menggunakan langkah baris 3 kembali sesuai nilai treshold\n",
        "- Menghitung jarak antara data dan nilai centroid(K means clustering)\n",
        "- Distance space dapat diimplementasikan untuk menghitung jarak data dan centroid. Contoh penghitungan jarak yang sering digunakan adalah manhattan/city blok distance"
      ]
    },
    {
      "cell_type": "code",
      "execution_count": null,
      "metadata": {
        "id": "PK4vrED0YNt8",
        "outputId": "de5635c2-1bc3-4f0f-907a-4cd94a428593"
      },
      "outputs": [
        {
          "data": {
            "text/plain": [
              "MiniBatchKMeans(batch_size=100, compute_labels=True, init='k-means++',\n",
              "        init_size=None, max_iter=100, max_no_improvement=10, n_clusters=8,\n",
              "        n_init=3, random_state=0, reassignment_ratio=0.01, tol=0.0,\n",
              "        verbose=0)"
            ]
          },
          "execution_count": 53,
          "metadata": {},
          "output_type": "execute_result"
        }
      ],
      "source": [
        "\n",
        "from sklearn.cluster import MiniBatchKMeans\n",
        "kmeans = MiniBatchKMeans(n_clusters=8, random_state=0)\n",
        "kmeans.fit(X_scaled)"
      ]
    },
    {
      "cell_type": "markdown",
      "metadata": {
        "id": "bafjsrCkYNt9"
      },
      "source": [
        "### menggunakan metode ``Elbow``\n",
        "\n",
        "menggunakan metode elbow untuk optimisasi K pada kmeans"
      ]
    },
    {
      "cell_type": "code",
      "execution_count": null,
      "metadata": {
        "id": "kReEg_N7YNt9",
        "outputId": "516b7fd8-b455-4fd7-df33-349b154a5e3d"
      },
      "outputs": [
        {
          "data": {
            "image/png": "[encoded data removed]",
            "text/plain": [
              "<Figure size 432x288 with 1 Axes>"
            ]
          },
          "metadata": {
            "needs_background": "light"
          },
          "output_type": "display_data"
        }
      ],
      "source": [
        "clustno = range(1, 10)\n",
        "\n",
        "kmeans = [MiniBatchKMeans(n_clusters=i) for i in clustno] \n",
        "score = [kmeans[i].fit(X_scaled).score(X_scaled) for i in range(len(kmeans))]\n",
        "\n",
        "plt.plot(clustno, score)\n",
        "plt.xlabel('Number of Clusters')\n",
        "plt.ylabel('Score')\n",
        "plt.title('Elbow Curve');"
      ]
    },
    {
      "cell_type": "markdown",
      "metadata": {
        "id": "MghILCgjYNt-"
      },
      "source": [
        "sekarang kita dapat melihat bahwa jumlah cluster yang optimal mungkin harus berada di sekitar 3 cluster, karena di situlah siku berada di kurva."
      ]
    },
    {
      "cell_type": "markdown",
      "metadata": {
        "id": "txsBO6JqYNt_"
      },
      "source": [
        "### deteksi outliers"
      ]
    },
    {
      "cell_type": "code",
      "execution_count": null,
      "metadata": {
        "id": "wwUQ3HAXYNt_"
      },
      "outputs": [],
      "source": [
        "from sklearn.model_selection import train_test_split"
      ]
    },
    {
      "cell_type": "code",
      "execution_count": null,
      "metadata": {
        "id": "bL-Ne3HiYNuA"
      },
      "outputs": [],
      "source": [
        "# pecah data ke dalam training dan testing\n",
        "X_train, X_test, y_train, y_test = train_test_split(X_scaled, y, test_size=0.3, random_state=0)\n",
        "\n",
        "# definis K-means\n",
        "kmeans = MiniBatchKMeans(n_clusters=3, random_state=42).fit(X_train)\n",
        "X_test_clusters = kmeans.predict(X_test)\n",
        "X_test_clusters_centers = kmeans.cluster_centers_\n",
        "dist = [np.linalg.norm(x-y) for x, y in zip(X_test, X_test_clusters_centers[X_test_clusters])]\n",
        "\n",
        "# membuat prediksi fraud berdasarkan dari outliner\n",
        "km_y_pred = np.array(dist)\n",
        "km_y_pred[dist >= np.percentile(dist, 95)] = 1\n",
        "km_y_pred[dist < np.percentile(dist, 95)] = 0"
      ]
    },
    {
      "cell_type": "code",
      "execution_count": null,
      "metadata": {
        "id": "s5Tsh5_3YNuB",
        "outputId": "c31ff7ca-4f37-4e49-cff0-020dd1c1eeeb"
      },
      "outputs": [
        {
          "data": {
            "text/plain": [
              "array([0., 0., 0., ..., 0., 0., 0.])"
            ]
          },
          "execution_count": 89,
          "metadata": {},
          "output_type": "execute_result"
        }
      ],
      "source": [
        "km_y_pred"
      ]
    },
    {
      "cell_type": "code",
      "execution_count": null,
      "metadata": {
        "id": "CyLIzW0NYNuB",
        "outputId": "b2255a21-1de7-47b2-9c8a-0fdfd7c71798"
      },
      "outputs": [
        {
          "data": {
            "text/plain": [
              "array([0., 1.])"
            ]
          },
          "execution_count": 90,
          "metadata": {},
          "output_type": "execute_result"
        }
      ],
      "source": [
        "np.unique(km_y_pred)"
      ]
    },
    {
      "cell_type": "code",
      "execution_count": null,
      "metadata": {
        "id": "lNUxJoKVYNuC",
        "outputId": "264f8535-ee3a-4f6c-a013-499b02571724"
      },
      "outputs": [
        {
          "data": {
            "text/plain": [
              "array([[4.90142696e-01, 1.13272907e-01, 0.00000000e+00, 1.87758167e-04,\n",
              "        0.00000000e+00, 0.00000000e+00, 9.38790837e-04, 0.00000000e+00,\n",
              "        0.00000000e+00, 1.87758167e-04, 0.00000000e+00, 0.00000000e+00,\n",
              "        3.75516335e-04, 3.75516335e-04, 9.97559144e-01, 1.87758167e-04,\n",
              "        0.00000000e+00],\n",
              "       [5.04159988e-01, 1.16031693e-01, 1.00000000e+00, 2.28990153e-04,\n",
              "        1.37394092e-03, 0.00000000e+00, 1.14495077e-03, 4.57980307e-04,\n",
              "        2.28990153e-04, 9.15960614e-04, 2.28990153e-04, 2.28990153e-04,\n",
              "        2.28990153e-04, 1.37394092e-03, 9.90611404e-01, 0.00000000e+00,\n",
              "        2.06091138e-03],\n",
              "       [4.94843559e-01, 3.49956360e-01, 3.87519664e-01, 1.41583639e-02,\n",
              "        7.65600420e-02, 2.56423702e-01, 1.94546408e-01, 1.83534347e-02,\n",
              "        1.73046670e-02, 6.44992134e-02, 1.31095962e-02, 6.81699004e-03,\n",
              "        6.29260619e-02, 2.67435763e-02, 0.00000000e+00, 2.25485055e-02,\n",
              "        1.58363922e-01]])"
            ]
          },
          "execution_count": 73,
          "metadata": {},
          "output_type": "execute_result"
        }
      ],
      "source": [
        "X_test_clusters_centers"
      ]
    },
    {
      "cell_type": "code",
      "execution_count": null,
      "metadata": {
        "id": "57ndrMyWYNuC",
        "outputId": "fe82d780-da2a-41c3-c057-24a15d4a5e04"
      },
      "outputs": [
        {
          "data": {
            "text/plain": [
              "array([0, 1, 2], dtype=int32)"
            ]
          },
          "execution_count": 76,
          "metadata": {},
          "output_type": "execute_result"
        }
      ],
      "source": [
        "np.unique(X_test_clusters)"
      ]
    },
    {
      "cell_type": "markdown",
      "metadata": {
        "id": "vci5bMP0YNuD"
      },
      "source": [
        "### cek hasil dari model"
      ]
    },
    {
      "cell_type": "markdown",
      "metadata": {
        "id": "ctWOaL60YNuD"
      },
      "source": [
        "kita telah mengetahui semua pengamatan sebagai penipuan, jika mereka berada di persentil ke-5 teratas dalam jarak dari pusat"
      ]
    },
    {
      "cell_type": "code",
      "execution_count": null,
      "metadata": {
        "id": "H-DTS4xoYNuE"
      },
      "outputs": [],
      "source": [
        "from sklearn.metrics import roc_auc_score, confusion_matrix\n",
        "import seaborn as sn"
      ]
    },
    {
      "cell_type": "code",
      "execution_count": null,
      "metadata": {
        "id": "qn0NrQabYNuE",
        "outputId": "97114dbe-6db4-4541-e875-fafae142a157"
      },
      "outputs": [
        {
          "name": "stdout",
          "output_type": "stream",
          "text": [
            "0.8502680893985243\n"
          ]
        }
      ],
      "source": [
        "print(roc_auc_score(y_test, km_y_pred))"
      ]
    },
    {
      "cell_type": "code",
      "execution_count": null,
      "metadata": {
        "id": "7XbJW9QWYNuF"
      },
      "outputs": [],
      "source": [
        "def plot_confusion_matrix(km_cm):\n",
        "    df_cm = pd.DataFrame(km_cm, ['True Normal','True Fraud'],['Pred Normal','Pred Fraud'])\n",
        "    plt.figure(figsize = (8,4))\n",
        "    \n",
        "    sn.set(font_scale=1.4) \n",
        "    sn.heatmap(df_cm, annot=True, annot_kws={\"size\": 16}, fmt='g')\n",
        "    \n",
        "    plt.show()"
      ]
    },
    {
      "cell_type": "code",
      "execution_count": null,
      "metadata": {
        "id": "So1PUP5fYNuF",
        "outputId": "480c0b1b-8f2a-499e-86e3-933279f1e027"
      },
      "outputs": [
        {
          "data": {
            "image/png": "[encoded data removed]",
            "text/plain": [
              "<Figure size 576x288 with 2 Axes>"
            ]
          },
          "metadata": {
            "needs_background": "light"
          },
          "output_type": "display_data"
        }
      ],
      "source": [
        "# Cmembuat konfusion matriks\n",
        "km_cm = confusion_matrix(y_test, km_y_pred)\n",
        "\n",
        "# plorting hasil dari confusion matriks\n",
        "plot_confusion_matrix(km_cm)"
      ]
    },
    {
      "cell_type": "markdown",
      "metadata": {
        "id": "WCnkljPWYNuG"
      },
      "source": [
        "deengan menurunkan ambang seperti %93 untuk kasus yang ditandai sebagai penipuan, kita menandai lebih banyak kasus secara keseluruhan tetapi dengan demikian juga mendapatkan lebih banyak false positive"
      ]
    },
    {
      "cell_type": "markdown",
      "metadata": {
        "id": "_r8IdztyYNuH"
      },
      "source": [
        "### menggunakan metode ``DB scan``"
      ]
    },
    {
      "cell_type": "code",
      "execution_count": null,
      "metadata": {
        "id": "qgqcbh-TYNuH",
        "outputId": "64d84cc3-26a1-487b-ff38-5b8ab6124bc3"
      },
      "outputs": [
        {
          "data": {
            "text/plain": [
              "(7184,)"
            ]
          },
          "execution_count": 93,
          "metadata": {},
          "output_type": "execute_result"
        }
      ],
      "source": [
        "y.shape"
      ]
    },
    {
      "cell_type": "code",
      "execution_count": null,
      "metadata": {
        "id": "i0l4cD0lYNuI",
        "outputId": "97b63a92-af67-4ec3-f511-0df5dc446d35"
      },
      "outputs": [
        {
          "data": {
            "text/plain": [
              "(7184,)"
            ]
          },
          "execution_count": 95,
          "metadata": {},
          "output_type": "execute_result"
        }
      ],
      "source": [
        "pred_labels.shape"
      ]
    },
    {
      "cell_type": "code",
      "execution_count": null,
      "metadata": {
        "id": "z7Sv8W7mYNuI",
        "outputId": "8578e5c2-12c4-49c5-b6b6-ba04c38bf1a5"
      },
      "outputs": [
        {
          "name": "stdout",
          "output_type": "stream",
          "text": [
            "Estimated number of clusters: 23\n",
            "Homogeneity: 0.612\n",
            "Silhouette Coefficient: 0.713\n"
          ]
        }
      ],
      "source": [
        "from sklearn.cluster import DBSCAN\n",
        "from sklearn.metrics import homogeneity_score, silhouette_score\n",
        "\n",
        "db = DBSCAN(eps=.9, min_samples=10, n_jobs=-1).fit(X_scaled) \n",
        "pred_labels = db.labels_\n",
        "n_clusters = len(set(pred_labels)) - (1 if -1 in y else 0)\n",
        "\n",
        "print('Estimated number of clusters: %d' % n_clusters)\n",
        "print(\"Homogeneity: %0.3f\" % homogeneity_score(y, pred_labels))\n",
        "print(\"Silhouette Coefficient: %0.3f\" % silhouette_score(X_scaled, pred_labels))"
      ]
    },
    {
      "cell_type": "markdown",
      "metadata": {
        "id": "GsdhS5OiYNuJ"
      },
      "source": [
        "jumlah cluster jauh lebih banyak dibandingkan dengan K-means. Untuk deteksi penipuan ini untuk saat ini OK"
      ]
    },
    {
      "cell_type": "markdown",
      "metadata": {
        "id": "obhOQgVUYNuJ"
      },
      "source": [
        "### menilai cluster terkecil"
      ]
    },
    {
      "cell_type": "code",
      "execution_count": null,
      "metadata": {
        "id": "7gRPZrmWYNuJ",
        "outputId": "a8a7ba0b-6372-4955-e0bb-b4c025656277"
      },
      "outputs": [
        {
          "data": {
            "text/plain": [
              "(7184,)"
            ]
          },
          "execution_count": 102,
          "metadata": {},
          "output_type": "execute_result"
        }
      ],
      "source": [
        "pred_labels.shape"
      ]
    },
    {
      "cell_type": "code",
      "execution_count": null,
      "metadata": {
        "id": "tmYF-D-rYNuK",
        "outputId": "0240c61c-432e-4a47-c05e-0816e416a018"
      },
      "outputs": [
        {
          "name": "stdout",
          "output_type": "stream",
          "text": [
            "[3249  144 2714   55  173  119  122   98   54   15   76   15   43   25\n",
            "   51   47   42   15   25   20   19   10]\n"
          ]
        }
      ],
      "source": [
        "# Hitung pengamatan di setiap nomor cluster\n",
        "counts = np.bincount(pred_labels[pred_labels >= 0])\n",
        "print(counts)"
      ]
    },
    {
      "cell_type": "code",
      "execution_count": null,
      "metadata": {
        "id": "tjdmZa3ZYNuL",
        "outputId": "0d48d405-1749-426a-b19d-91e8126e902b"
      },
      "outputs": [
        {
          "name": "stdout",
          "output_type": "stream",
          "text": [
            "The smallest clusters are clusters:\n",
            "[21 17  9]\n"
          ]
        }
      ],
      "source": [
        "# urutkan jumlah sampel cluster dan ambil 3 cluster terkecil teratas\n",
        "smallest_clusters = np.argsort(counts)[:3]\n",
        "print(\"The smallest clusters are clusters:\")      \n",
        "print(smallest_clusters)"
      ]
    },
    {
      "cell_type": "code",
      "execution_count": null,
      "metadata": {
        "id": "c3j1oMgwYNuL",
        "outputId": "4a8f1e52-6a56-4bc8-dcc3-e5bff929f044"
      },
      "outputs": [
        {
          "name": "stdout",
          "output_type": "stream",
          "text": [
            "Their counts are:\n",
            "[10 15 15]\n"
          ]
        }
      ],
      "source": [
        "# cetak jumlah cluster terkecil saja\n",
        "print(\"Their counts are:\")      \n",
        "print(counts[smallest_clusters])"
      ]
    },
    {
      "cell_type": "markdown",
      "metadata": {
        "id": "p6StARFBYNuM"
      },
      "source": [
        "jadi sekarang kita tahu kluster terkecil mana yang dapat Anda tandai sebagai penipuan. jika kita ingin mengambil lebih banyak kelompok terkecil, kita menyebarkan jaring kit lebih luas dan menangkap lebih banyak penipuan, tetapi kemungkinan besar juga lebih banyak false positive. terserah analis penipuan untuk menemukan jumlah kasus yang tepat untuk ditandai dan diselidiki"
      ]
    },
    {
      "cell_type": "markdown",
      "metadata": {
        "id": "lBVbMneHYNuM"
      },
      "source": [
        "### cek hasil"
      ]
    },
    {
      "cell_type": "code",
      "execution_count": null,
      "metadata": {
        "id": "DWihTzVAYNuM",
        "outputId": "bdfcc7a1-908f-4d6d-eda3-f4818c60e4ca"
      },
      "outputs": [
        {
          "name": "stdout",
          "output_type": "stream",
          "text": [
            "Flagged Fraud     0   1\n",
            "Actual Fraud           \n",
            "0              6968  16\n",
            "1               176  24\n"
          ]
        }
      ],
      "source": [
        "# buat kerangka data dari nomor cluster yang diprediksi dan label penipuan\n",
        "df = pd.DataFrame({'clusternr':pred_labels,'fraud':y})\n",
        "\n",
        "# Buat kondisi yang menandai penipuan untuk kluster terkecil\n",
        "df['predicted_fraud'] = np.where((df['clusternr']==21) | (df['clusternr']==17) | (df['clusternr']==9), 1, 0)\n",
        "\n",
        "print(pd.crosstab(df.fraud, df.predicted_fraud, rownames=['Actual Fraud'], colnames=['Flagged Fraud']))"
      ]
    },
    {
      "cell_type": "markdown",
      "metadata": {
        "id": "KgBY66SRYNuN"
      },
      "source": [
        "bagaimana ini dibandingkan dengan model K-means? Hal baiknya adalah: dari semua kasus yang ditandai, kira-kira 2/3 sebenarnya adalah penipuan! Karena kira hanya mengambil tiga kelompok terkecil, menurut definisi kita menandai lebih sedikit kasus penipuan, jadi kita menangkap lebih sedikit tetapi juga memiliki lebih sedikit kesalahan positif. Namun, kita kehilangan cukup banyak kasus penipuan. Meningkatkan jumlah kluster terkecil yang kita tandai dapat meningkatkannya, tentu saja dengan mengorbankan lebih banyak false positive"
      ]
    },
    {
      "cell_type": "markdown",
      "metadata": {
        "id": "1zOO6E_pYNuN"
      },
      "source": [
        "## deteksi fraud berdasarkan teks"
      ]
    },
    {
      "cell_type": "markdown",
      "metadata": {
        "id": "AFWs2ElgYNuO"
      },
      "source": [
        "### pencarian kata dengan kerangka data"
      ]
    },
    {
      "cell_type": "code",
      "execution_count": null,
      "metadata": {
        "id": "UYGQdMvdYNuO",
        "outputId": "b0766385-111b-4906-a8df-62b79954e1ae"
      },
      "outputs": [
        {
          "data": {
            "text/html": [
              "<div>\n",
              "<style scoped>\n",
              "    .dataframe tbody tr th:only-of-type {\n",
              "        vertical-align: middle;\n",
              "    }\n",
              "\n",
              "    .dataframe tbody tr th {\n",
              "        vertical-align: top;\n",
              "    }\n",
              "\n",
              "    .dataframe thead th {\n",
              "        text-align: right;\n",
              "    }\n",
              "</style>\n",
              "<table border=\"1\" class=\"dataframe\">\n",
              "  <thead>\n",
              "    <tr style=\"text-align: right;\">\n",
              "      <th></th>\n",
              "      <th>Message-ID</th>\n",
              "      <th>From</th>\n",
              "      <th>To</th>\n",
              "      <th>Date</th>\n",
              "      <th>content</th>\n",
              "      <th>clean_content</th>\n",
              "    </tr>\n",
              "  </thead>\n",
              "  <tbody>\n",
              "    <tr>\n",
              "      <th>0</th>\n",
              "      <td>&lt;8345058.1075840404046.JavaMail.evans@thyme&gt;</td>\n",
              "      <td>('advdfeedback@investools.com')</td>\n",
              "      <td>('advdfeedback@investools.com')</td>\n",
              "      <td>2002-01-29 23:20:55</td>\n",
              "      <td>INVESTools Advisory\\nA Free Digest of Trusted ...</td>\n",
              "      <td>investools advisory free digest trusted invest...</td>\n",
              "    </tr>\n",
              "    <tr>\n",
              "      <th>1</th>\n",
              "      <td>&lt;1512159.1075863666797.JavaMail.evans@thyme&gt;</td>\n",
              "      <td>('richard.sanders@enron.com')</td>\n",
              "      <td>('richard.sanders@enron.com')</td>\n",
              "      <td>2000-09-20 19:07:00</td>\n",
              "      <td>----- Forwarded by Richard B Sanders/HOU/ECT o...</td>\n",
              "      <td>forwarded richard b sanders hou ect pm justin ...</td>\n",
              "    </tr>\n",
              "    <tr>\n",
              "      <th>2</th>\n",
              "      <td>&lt;26118676.1075862176383.JavaMail.evans@thyme&gt;</td>\n",
              "      <td>('m..love@enron.com')</td>\n",
              "      <td>('m..love@enron.com')</td>\n",
              "      <td>2001-10-30 16:15:17</td>\n",
              "      <td>hey you are not wearing your target purple shi...</td>\n",
              "      <td>hey wearing target purple shirt today mine wan...</td>\n",
              "    </tr>\n",
              "    <tr>\n",
              "      <th>3</th>\n",
              "      <td>&lt;10369289.1075860831062.JavaMail.evans@thyme&gt;</td>\n",
              "      <td>('leslie.milosevich@kp.org')</td>\n",
              "      <td>('leslie.milosevich@kp.org')</td>\n",
              "      <td>2002-01-30 17:54:18</td>\n",
              "      <td>Leslie Milosevich\\n1042 Santa Clara Avenue\\nAl...</td>\n",
              "      <td>leslie milosevich santa clara avenue alameda c...</td>\n",
              "    </tr>\n",
              "    <tr>\n",
              "      <th>4</th>\n",
              "      <td>&lt;26728895.1075860815046.JavaMail.evans@thyme&gt;</td>\n",
              "      <td>('rtwait@graphicaljazz.com')</td>\n",
              "      <td>('rtwait@graphicaljazz.com')</td>\n",
              "      <td>2002-01-30 19:36:01</td>\n",
              "      <td>Rini Twait\\n1010 E 5th Ave\\nLongmont, CO 80501...</td>\n",
              "      <td>rini twait e th ave longmont co rtwait graphic...</td>\n",
              "    </tr>\n",
              "  </tbody>\n",
              "</table>\n",
              "</div>"
            ],
            "text/plain": [
              "                                      Message-ID  \\\n",
              "0   <8345058.1075840404046.JavaMail.evans@thyme>   \n",
              "1   <1512159.1075863666797.JavaMail.evans@thyme>   \n",
              "2  <26118676.1075862176383.JavaMail.evans@thyme>   \n",
              "3  <10369289.1075860831062.JavaMail.evans@thyme>   \n",
              "4  <26728895.1075860815046.JavaMail.evans@thyme>   \n",
              "\n",
              "                              From                               To  \\\n",
              "0  ('advdfeedback@investools.com')  ('advdfeedback@investools.com')   \n",
              "1    ('richard.sanders@enron.com')    ('richard.sanders@enron.com')   \n",
              "2            ('m..love@enron.com')            ('m..love@enron.com')   \n",
              "3     ('leslie.milosevich@kp.org')     ('leslie.milosevich@kp.org')   \n",
              "4     ('rtwait@graphicaljazz.com')     ('rtwait@graphicaljazz.com')   \n",
              "\n",
              "                  Date                                            content  \\\n",
              "0  2002-01-29 23:20:55  INVESTools Advisory\\nA Free Digest of Trusted ...   \n",
              "1  2000-09-20 19:07:00  ----- Forwarded by Richard B Sanders/HOU/ECT o...   \n",
              "2  2001-10-30 16:15:17  hey you are not wearing your target purple shi...   \n",
              "3  2002-01-30 17:54:18  Leslie Milosevich\\n1042 Santa Clara Avenue\\nAl...   \n",
              "4  2002-01-30 19:36:01  Rini Twait\\n1010 E 5th Ave\\nLongmont, CO 80501...   \n",
              "\n",
              "                                       clean_content  \n",
              "0  investools advisory free digest trusted invest...  \n",
              "1  forwarded richard b sanders hou ect pm justin ...  \n",
              "2  hey wearing target purple shirt today mine wan...  \n",
              "3  leslie milosevich santa clara avenue alameda c...  \n",
              "4  rini twait e th ave longmont co rtwait graphic...  "
            ]
          },
          "execution_count": 110,
          "metadata": {},
          "output_type": "execute_result"
        }
      ],
      "source": [
        "df = pd.read_csv('enron_emails_clean.csv')\n",
        "df.head()"
      ]
    },
    {
      "cell_type": "code",
      "execution_count": null,
      "metadata": {
        "id": "7D-z37FEYNuO",
        "outputId": "b8fb99b2-6d71-4154-8757-477a2bf070b0"
      },
      "outputs": [
        {
          "data": {
            "text/plain": [
              "(2090, 6)"
            ]
          },
          "execution_count": 111,
          "metadata": {},
          "output_type": "execute_result"
        }
      ],
      "source": [
        "df.shape"
      ]
    },
    {
      "cell_type": "code",
      "execution_count": null,
      "metadata": {
        "id": "FD_hlnHuYNuP"
      },
      "outputs": [],
      "source": [
        "# Temukan semua email bersih yang berisi 'sell enron stock'\n",
        "mask = df['clean_content'].str.contains('sell enron stock', na=False)"
      ]
    },
    {
      "cell_type": "code",
      "execution_count": null,
      "metadata": {
        "id": "g4aZ6aBgYNuP",
        "outputId": "997849ee-b451-40f0-e180-97d54d9ffbbb"
      },
      "outputs": [
        {
          "data": {
            "text/html": [
              "<div>\n",
              "<style scoped>\n",
              "    .dataframe tbody tr th:only-of-type {\n",
              "        vertical-align: middle;\n",
              "    }\n",
              "\n",
              "    .dataframe tbody tr th {\n",
              "        vertical-align: top;\n",
              "    }\n",
              "\n",
              "    .dataframe thead th {\n",
              "        text-align: right;\n",
              "    }\n",
              "</style>\n",
              "<table border=\"1\" class=\"dataframe\">\n",
              "  <thead>\n",
              "    <tr style=\"text-align: right;\">\n",
              "      <th></th>\n",
              "      <th>Message-ID</th>\n",
              "      <th>From</th>\n",
              "      <th>To</th>\n",
              "      <th>Date</th>\n",
              "      <th>content</th>\n",
              "      <th>clean_content</th>\n",
              "    </tr>\n",
              "  </thead>\n",
              "  <tbody>\n",
              "    <tr>\n",
              "      <th>154</th>\n",
              "      <td>&lt;6336501.1075841154311.JavaMail.evans@thyme&gt;</td>\n",
              "      <td>('sarah.palmer@enron.com')</td>\n",
              "      <td>('sarah.palmer@enron.com')</td>\n",
              "      <td>2002-02-01 14:53:35</td>\n",
              "      <td>\\nJoint Venture: A 1997 Enron Meeting Belies O...</td>\n",
              "      <td>joint venture enron meeting belies officers cl...</td>\n",
              "    </tr>\n",
              "  </tbody>\n",
              "</table>\n",
              "</div>"
            ],
            "text/plain": [
              "                                       Message-ID                        From  \\\n",
              "154  <6336501.1075841154311.JavaMail.evans@thyme>  ('sarah.palmer@enron.com')   \n",
              "\n",
              "                             To                 Date  \\\n",
              "154  ('sarah.palmer@enron.com')  2002-02-01 14:53:35   \n",
              "\n",
              "                                               content  \\\n",
              "154  \\nJoint Venture: A 1997 Enron Meeting Belies O...   \n",
              "\n",
              "                                         clean_content  \n",
              "154  joint venture enron meeting belies officers cl...  "
            ]
          },
          "execution_count": 114,
          "metadata": {},
          "output_type": "execute_result"
        }
      ],
      "source": [
        "# Select the data from df using the mask\n",
        "df.loc[mask]"
      ]
    },
    {
      "cell_type": "markdown",
      "metadata": {
        "id": "aaMEwlpjYNuQ"
      },
      "source": [
        "### menggunakan daftar istilah"
      ]
    },
    {
      "cell_type": "code",
      "execution_count": null,
      "metadata": {
        "id": "uH5U_axEYNuQ",
        "outputId": "d800a3ea-a688-47be-b543-13cd83061a2d"
      },
      "outputs": [
        {
          "data": {
            "text/plain": [
              "(314, 6)"
            ]
          },
          "execution_count": 116,
          "metadata": {},
          "output_type": "execute_result"
        }
      ],
      "source": [
        "searchfor = ['enron stock', 'sell stock', 'stock bonus', 'sell enron stock']\n",
        "\n",
        "filtered_emails = (df.loc[df['clean_content'].str.contains('|'.join(searchfor), na=False)])\n",
        "filtered_emails.shape"
      ]
    },
    {
      "cell_type": "markdown",
      "metadata": {
        "id": "BTy7_CLHYNuR"
      },
      "source": [
        "dengan menggabungkan istilah pencarian dengan tanda 'or', yaitu `|`,kita dapat mencari banyak istilah dalam kumpulan data Anda dengan sangat mudah."
      ]
    },
    {
      "cell_type": "markdown",
      "metadata": {
        "id": "fnhpeZfzYNuS"
      },
      "source": [
        "### buat flag\n",
        "\n",
        "membuat flag dengan fungsi ``np.where()``"
      ]
    },
    {
      "cell_type": "code",
      "execution_count": null,
      "metadata": {
        "id": "q-WIdowZYNuS",
        "outputId": "01596f6e-3727-44be-f987-556e35d1efad"
      },
      "outputs": [
        {
          "name": "stdout",
          "output_type": "stream",
          "text": [
            "0    1776\n",
            "1     314\n",
            "Name: flag, dtype: int64\n"
          ]
        }
      ],
      "source": [
        "df['flag'] = np.where((df['clean_content'].str.contains('|'.join(searchfor)) == True), 1, 0)\n",
        "count = df['flag'].value_counts()\n",
        "print(count)"
      ]
    },
    {
      "cell_type": "markdown",
      "metadata": {
        "id": "t26DXE55YNuT"
      },
      "source": [
        "### menghapus stopword"
      ]
    },
    {
      "cell_type": "code",
      "execution_count": null,
      "metadata": {
        "id": "9ntreQb4YNuU"
      },
      "outputs": [],
      "source": [
        "from nltk.corpus import stopwords\n",
        "import string\n",
        "\n",
        "# stopword untuk dikecualikan\n",
        "stop = set(stopwords.words('english'))\n",
        "stop.update((\"to\",\"cc\",\"subject\",\"http\",\"from\",\"sent\", \"ect\", \"u\", \"fwd\", \"www\", \"com\"))\n",
        "\n",
        "exclude = set(string.punctuation)"
      ]
    },
    {
      "cell_type": "markdown",
      "metadata": {
        "id": "yNEIj45DYNuU"
      },
      "source": [
        "### Cleaning text data"
      ]
    },
    {
      "cell_type": "code",
      "execution_count": null,
      "metadata": {
        "id": "u9Yi3Cu1YNuV"
      },
      "outputs": [],
      "source": [
        "df = df[df.clean_content.notnull()]"
      ]
    },
    {
      "cell_type": "code",
      "execution_count": null,
      "metadata": {
        "id": "xuJfVB89YNuW"
      },
      "outputs": [],
      "source": [
        "from nltk.stem.wordnet import WordNetLemmatizer\n",
        "lemma = WordNetLemmatizer()\n",
        "\n",
        "def clean(text, stop):\n",
        "    text = text.strip()\n",
        "    stop_free = \" \".join([word for word in text.lower().split() if ((word not in stop) and (not word.isdigit()))])\n",
        "    punc_free = ''.join(word for word in stop_free if word not in exclude)\n",
        "    normalized = \" \".join(lemma.lemmatize(word) for word in punc_free.split())      \n",
        "    return normalized"
      ]
    },
    {
      "cell_type": "code",
      "execution_count": null,
      "metadata": {
        "id": "qKsnun6_YNuW",
        "outputId": "3ac3f8c0-cab1-4dac-90f0-3df8b06ddaef"
      },
      "outputs": [
        {
          "name": "stderr",
          "output_type": "stream",
          "text": [
            "IOPub data rate exceeded.\n",
            "The notebook server will temporarily stop sending output\n",
            "to the client in order to avoid crashing it.\n",
            "To change this limit, set the config variable\n",
            "`--NotebookApp.iopub_data_rate_limit`.\n",
            "\n",
            "Current values:\n",
            "NotebookApp.iopub_data_rate_limit=1000000.0 (bytes/sec)\n",
            "NotebookApp.rate_limit_window=3.0 (secs)\n",
            "\n"
          ]
        }
      ],
      "source": [
        "text_clean=[]\n",
        "for text in df['clean_content']:\n",
        "    text_clean.append(clean(text, stop).split())    \n",
        "print(text_clean)"
      ]
    },
    {
      "cell_type": "code",
      "execution_count": null,
      "metadata": {
        "id": "jbF2gANNYNuX",
        "outputId": "3e5a573f-1fd5-4433-f675-9af20cad5a3a"
      },
      "outputs": [
        {
          "data": {
            "text/plain": [
              "2086"
            ]
          },
          "execution_count": 135,
          "metadata": {},
          "output_type": "execute_result"
        }
      ],
      "source": [
        "len(text_clean)"
      ]
    },
    {
      "cell_type": "code",
      "execution_count": null,
      "metadata": {
        "id": "IOOFy93YYNuY",
        "outputId": "1b73f7e9-2a56-48d8-9011-0cc59adddecc"
      },
      "outputs": [
        {
          "data": {
            "text/plain": [
              "['investools',\n",
              " 'advisory',\n",
              " 'free',\n",
              " 'digest',\n",
              " 'trusted',\n",
              " 'investment',\n",
              " 'advice',\n",
              " 'unsubscribe',\n",
              " 'free',\n",
              " 'newsletter']"
            ]
          },
          "execution_count": 134,
          "metadata": {},
          "output_type": "execute_result"
        }
      ],
      "source": [
        "text_clean[:1][0][:10]"
      ]
    },
    {
      "cell_type": "markdown",
      "metadata": {
        "id": "kXpn0v_kYNuY"
      },
      "source": [
        "sekarang kita telah membersihkan data Anda sepenuhnya dengan langkah-langkah yang diperlukan, termasuk memecah teks menjadi kata-kata, menghapus stopwords dan tanda baca, dan lemmatisasi kata-kata Anda."
      ]
    },
    {
      "cell_type": "markdown",
      "metadata": {
        "id": "WmBVQIbDYNuZ"
      },
      "source": [
        "### buat dict dan corpus"
      ]
    },
    {
      "cell_type": "code",
      "execution_count": null,
      "metadata": {
        "id": "1zmfzmblYNuZ",
        "outputId": "43a7fcaa-0d93-4b5f-da30-522a35ed040d"
      },
      "outputs": [
        {
          "name": "stdout",
          "output_type": "stream",
          "text": [
            "Dictionary(33981 unique tokens: ['account', 'accurate', 'acquiring', 'acre', 'address']...)\n",
            "[[(0, 2), (1, 1), (2, 1), (3, 1), (4, 1), (5, 6), (6, 1), (7, 2), (8, 4), (9, 1), (10, 1), (11, 3), (12, 2), (13, 1), (14, 5), (15, 3), (16, 1), (17, 3), (18, 1), (19, 1), (20, 1), (21, 5), (22, 1), (23, 1), (24, 1), (25, 1), (26, 1), (27, 1), (28, 1), (29, 1), (30, 3), (31, 3), (32, 1), (33, 3), (34, 1), (35, 1), (36, 1), (37, 1), (38, 1), (39, 1), (40, 1), (41, 2), (42, 1), (43, 1), (44, 2), (45, 1), (46, 1), (47, 1), (48, 1), (49, 4), (50, 1), (51, 1), (52, 1), (53, 1), (54, 1), (55, 4), (56, 1), (57, 4), (58, 9), (59, 5), (60, 1), (61, 8), (62, 1), (63, 1), (64, 2), (65, 1), (66, 1), (67, 1), (68, 1), (69, 1), (70, 1), (71, 1), (72, 1), (73, 1), (74, 1), (75, 1), (76, 1), (77, 2), (78, 1), (79, 1), (80, 1), (81, 12), (82, 2), (83, 2), (84, 1), (85, 1), (86, 3), (87, 1), (88, 1), (89, 1), (90, 1), (91, 1), (92, 1), (93, 1), (94, 1), (95, 4), (96, 1), (97, 1), (98, 2), (99, 2), (100, 1), (101, 2), (102, 5), (103, 1), (104, 3), (105, 8), (106, 1), (107, 1), (108, 1), (109, 1), (110, 1), (111, 1), (112, 1), (113, 1), (114, 1), (115, 1), (116, 2), (117, 4), (118, 1), (119, 1), (120, 1), (121, 1), (122, 1), (123, 1), (124, 1), (125, 3), (126, 1), (127, 1), (128, 1), (129, 1), (130, 2), (131, 2), (132, 2), (133, 1), (134, 1), (135, 7), (136, 1), (137, 1), (138, 1), (139, 1), (140, 1), (141, 1), (142, 1), (143, 1), (144, 1), (145, 1), (146, 1), (147, 1), (148, 1), (149, 1), (150, 1), (151, 1), (152, 1), (153, 3), (154, 1), (155, 1), (156, 4), (157, 1), (158, 2), (159, 5), (160, 3), (161, 1), (162, 2), (163, 2), (164, 1), (165, 10), (166, 9), (167, 3), (168, 1), (169, 2), (170, 1), (171, 8), (172, 1), (173, 8), (174, 1), (175, 1), (176, 2), (177, 1), (178, 13), (179, 2), (180, 1), (181, 2), (182, 1), (183, 1), (184, 2), (185, 1), (186, 1), (187, 1), (188, 1), (189, 1), (190, 2), (191, 2), (192, 1), (193, 5), (194, 1), (195, 1), (196, 1), (197, 1), (198, 3), (199, 1), (200, 1), (201, 1), (202, 1), (203, 1), (204, 1), (205, 1), (206, 1), (207, 3), (208, 5), (209, 2), (210, 2), (211, 1), (212, 1), (213, 1), (214, 1), (215, 6), (216, 2), (217, 1), (218, 1), (219, 1), (220, 1), (221, 3), (222, 1), (223, 1), (224, 2), (225, 1), (226, 1), (227, 1), (228, 1), (229, 1), (230, 1), (231, 1), (232, 1), (233, 1), (234, 2), (235, 8), (236, 23), (237, 4), (238, 1), (239, 1), (240, 1), (241, 5), (242, 2), (243, 1), (244, 1), (245, 3), (246, 1), (247, 1), (248, 1), (249, 3), (250, 4), (251, 3), (252, 2), (253, 4), (254, 1), (255, 4), (256, 1), (257, 1), (258, 3), (259, 1), (260, 5), (261, 2), (262, 1), (263, 1), (264, 2), (265, 1), (266, 1), (267, 1), (268, 1), (269, 2), (270, 1), (271, 1), (272, 1), (273, 3), (274, 3), (275, 1), (276, 1), (277, 1), (278, 9), (279, 1), (280, 1), (281, 2), (282, 2), (283, 2), (284, 1), (285, 1), (286, 1), (287, 2), (288, 1), (289, 10), (290, 1), (291, 1), (292, 1), (293, 3), (294, 3), (295, 2), (296, 1), (297, 1), (298, 7), (299, 2), (300, 1), (301, 1), (302, 1), (303, 1), (304, 4), (305, 1), (306, 4), (307, 2), (308, 1), (309, 2), (310, 1), (311, 2), (312, 1), (313, 1), (314, 1), (315, 1), (316, 3), (317, 1), (318, 2), (319, 1), (320, 4), (321, 1), (322, 1), (323, 1), (324, 1), (325, 1), (326, 1), (327, 2), (328, 1), (329, 3), (330, 1), (331, 2), (332, 1), (333, 3), (334, 2), (335, 1), (336, 1), (337, 1), (338, 5), (339, 2), (340, 1), (341, 1), (342, 2), (343, 1), (344, 2), (345, 1), (346, 2), (347, 1), (348, 1), (349, 2), (350, 2), (351, 1), (352, 1), (353, 2), (354, 1), (355, 1), (356, 1), (357, 1), (358, 1), (359, 1), (360, 1), (361, 1), (362, 1), (363, 1), (364, 1), (365, 1), (366, 1), (367, 1), (368, 4), (369, 1), (370, 1), (371, 1), (372, 1), (373, 1), (374, 2), (375, 1), (376, 2), (377, 1), (378, 1), (379, 1), (380, 1), (381, 2), (382, 1), (383, 1), (384, 1), (385, 1), (386, 1), (387, 1), (388, 1), (389, 1), (390, 1), (391, 2), (392, 3), (393, 1), (394, 1), (395, 1), (396, 2), (397, 1), (398, 1), (399, 2), (400, 2), (401, 1), (402, 1), (403, 1), (404, 1), (405, 2), (406, 5), (407, 2), (408, 1), (409, 6), (410, 1), (411, 2), (412, 1), (413, 1), (414, 1), (415, 9), (416, 3), (417, 2), (418, 2), (419, 12), (420, 1), (421, 1), (422, 4), (423, 12), (424, 1), (425, 1), (426, 2), (427, 5), (428, 2), (429, 3), (430, 1), (431, 1), (432, 6), (433, 1), (434, 1), (435, 7), (436, 1), (437, 1), (438, 1), (439, 1), (440, 1), (441, 1), (442, 1), (443, 1), (444, 1), (445, 1), (446, 3), (447, 1), (448, 1), (449, 1), (450, 1), (451, 1), (452, 2), (453, 1), (454, 1), (455, 1), (456, 1), (457, 2), (458, 14), (459, 1), (460, 1), (461, 1), (462, 4), (463, 1), (464, 1), (465, 3), (466, 1), (467, 1), (468, 1), (469, 1), (470, 1), (471, 4), (472, 1), (473, 1), (474, 1), (475, 3), (476, 1), (477, 1), (478, 1), (479, 1), (480, 2), (481, 2), (482, 1), (483, 10), (484, 1), (485, 2), (486, 2), (487, 3), (488, 1), (489, 1), (490, 3), (491, 1), (492, 6), (493, 1), (494, 1), (495, 1), (496, 1), (497, 2), (498, 1), (499, 1), (500, 1), (501, 1), (502, 6), (503, 1), (504, 1), (505, 1), (506, 1), (507, 2), (508, 1), (509, 1), (510, 1), (511, 1), (512, 1), (513, 1), (514, 6), (515, 1), (516, 1), (517, 1), (518, 1), (519, 1), (520, 1), (521, 1), (522, 6), (523, 1), (524, 1), (525, 2), (526, 1), (527, 1), (528, 12), (529, 8), (530, 9), (531, 3), (532, 1), (533, 1)], [(6, 1), (17, 1), (18, 1), (23, 4), (42, 2), (57, 2), (66, 1), (81, 5), (82, 1), (89, 1), (93, 1), (102, 1), (113, 1), (121, 1), (135, 4), (136, 6), (158, 5), (162, 1), (168, 2), (176, 2), (181, 1), (183, 3), (192, 1), (220, 1), (221, 4), (231, 2), (238, 1), (239, 1), (247, 6), (250, 1), (259, 1), (260, 1), (273, 4), (277, 2), (282, 5), (287, 7), (294, 1), (305, 1), (306, 2), (309, 1), (312, 1), (313, 2), (314, 1), (316, 1), (317, 1), (319, 1), (337, 3), (344, 9), (372, 1), (380, 1), (390, 1), (402, 1), (409, 3), (416, 1), (423, 3), (429, 2), (432, 3), (435, 1), (436, 1), (458, 3), (469, 1), (472, 1), (486, 1), (497, 6), (500, 1), (528, 1), (534, 1), (535, 2), (536, 3), (537, 1), (538, 4), (539, 2), (540, 1), (541, 4), (542, 13), (543, 1), (544, 1), (545, 1), (546, 2), (547, 1), (548, 1), (549, 1), (550, 3), (551, 2), (552, 1), (553, 1), (554, 1), (555, 7), (556, 1), (557, 1), (558, 1), (559, 1), (560, 3), (561, 1), (562, 1), (563, 4), (564, 1), (565, 2), (566, 6), (567, 2), (568, 2), (569, 1), (570, 1), (571, 1), (572, 1), (573, 1), (574, 1), (575, 1), (576, 1), (577, 1), (578, 1), (579, 1), (580, 3), (581, 4), (582, 3), (583, 1), (584, 4), (585, 1), (586, 1), (587, 2), (588, 1), (589, 1), (590, 1), (591, 1), (592, 2), (593, 2), (594, 1), (595, 1), (596, 1), (597, 1), (598, 1), (599, 1), (600, 1), (601, 2), (602, 1), (603, 2), (604, 1), (605, 20), (606, 1), (607, 1), (608, 3), (609, 1), (610, 1), (611, 1), (612, 1), (613, 4), (614, 1), (615, 1), (616, 1), (617, 8), (618, 1), (619, 6), (620, 1), (621, 1), (622, 1), (623, 1), (624, 2), (625, 3), (626, 3), (627, 1), (628, 2), (629, 1), (630, 2), (631, 1), (632, 1), (633, 1), (634, 1), (635, 1), (636, 1), (637, 9), (638, 1), (639, 4), (640, 1), (641, 1), (642, 1), (643, 5), (644, 1), (645, 1), (646, 1), (647, 1), (648, 1), (649, 9), (650, 1), (651, 1), (652, 1), (653, 3), (654, 1), (655, 14), (656, 5), (657, 1), (658, 2), (659, 11), (660, 1), (661, 1), (662, 1), (663, 1), (664, 6), (665, 4), (666, 3), (667, 2), (668, 2), (669, 3), (670, 2), (671, 1), (672, 13), (673, 3), (674, 1), (675, 1), (676, 6), (677, 5), (678, 2), (679, 4), (680, 1), (681, 1), (682, 4), (683, 1), (684, 20), (685, 8), (686, 4), (687, 1), (688, 2), (689, 1), (690, 3), (691, 3), (692, 1), (693, 5), (694, 2), (695, 1), (696, 1), (697, 2), (698, 1), (699, 2), (700, 1), (701, 1), (702, 1), (703, 1), (704, 2), (705, 1), (706, 1), (707, 3), (708, 1), (709, 1), (710, 2), (711, 1), (712, 5), (713, 1), (714, 1), (715, 14), (716, 3), (717, 1), (718, 1), (719, 1), (720, 1), (721, 1), (722, 2), (723, 1), (724, 1), (725, 2), (726, 1), (727, 1), (728, 1), (729, 1), (730, 2), (731, 1), (732, 1), (733, 1), (734, 1), (735, 1), (736, 1), (737, 1), (738, 1), (739, 1), (740, 1), (741, 1), (742, 7), (743, 14), (744, 2), (745, 9), (746, 4), (747, 2), (748, 1), (749, 1), (750, 1), (751, 1), (752, 1), (753, 1), (754, 1), (755, 1), (756, 1), (757, 3), (758, 1), (759, 1), (760, 1), (761, 1), (762, 1), (763, 1), (764, 1), (765, 1), (766, 1), (767, 1), (768, 1), (769, 1), (770, 1), (771, 1), (772, 2), (773, 6), (774, 1), (775, 4), (776, 2), (777, 1), (778, 1), (779, 1), (780, 3), (781, 5), (782, 1), (783, 1), (784, 1), (785, 1), (786, 1), (787, 1), (788, 2), (789, 3), (790, 1), (791, 1), (792, 1), (793, 1), (794, 6), (795, 1), (796, 1), (797, 1), (798, 1), (799, 1), (800, 1), (801, 1), (802, 2), (803, 1), (804, 3), (805, 12), (806, 6), (807, 1), (808, 1), (809, 4), (810, 2)]]\n"
          ]
        }
      ],
      "source": [
        "import gensim\n",
        "from gensim import corpora\n",
        "\n",
        "dictionary = corpora.Dictionary(text_clean)\n",
        "\n",
        "corpus = [dictionary.doc2bow(text) for text in text_clean]\n",
        "\n",
        "print(dictionary)\n",
        "print(corpus[:2])"
      ]
    },
    {
      "cell_type": "markdown",
      "metadata": {
        "id": "O5LYEhjRYNua"
      },
      "source": [
        "### menggunakan model LDA\n",
        "\n",
        "latent Dirichlet Allocation (LDA) adalah model probabilistik generatif dari koleksi data diskrit seperti korpus teks. Ide dasarnya adalah bahwa dokumen direpresentasikan sebagai campuran acak atas topik laten (tidak terlihat).\n",
        "\n",
        "LDA merupakan model Bayesian hirarki tiga tingkat, di mana setiap item koleksi dimodelkan sebagai campuran terbatas atas serangkaian set topik. Setiap topik dimodelkan sebagai campuran tak terbatas melalui set yang mendasari probabilitas topik. Dalam konteks pembuatan model teks, probabilitas topik memberikan representasi eksplisit dari sebuah dokumen"
      ]
    },
    {
      "cell_type": "code",
      "execution_count": null,
      "metadata": {
        "id": "yd9IDON0YNua",
        "outputId": "fb7e623e-9e55-452f-95ef-31e024d44db7"
      },
      "outputs": [
        {
          "name": "stdout",
          "output_type": "stream",
          "text": [
            "(0, '0.054*\"image\" + 0.013*\"se\" + 0.013*\"ne\" + 0.013*\"sp\" + 0.012*\"wscc\"')\n",
            "(1, '0.008*\"e\" + 0.007*\"bakernet\" + 0.007*\"market\" + 0.006*\"mail\" + 0.006*\"service\"')\n",
            "(2, '0.044*\"td\" + 0.033*\"net\" + 0.030*\"money\" + 0.028*\"tr\" + 0.026*\"width\"')\n",
            "(3, '0.046*\"enron\" + 0.013*\"message\" + 0.011*\"original\" + 0.011*\"hou\" + 0.010*\"pm\"')\n",
            "(4, '0.021*\"enron\" + 0.010*\"company\" + 0.006*\"energy\" + 0.005*\"stock\" + 0.005*\"employee\"')\n"
          ]
        }
      ],
      "source": [
        "# Define the LDA model\n",
        "ldamodel = gensim.models.ldamodel.LdaModel(corpus, num_topics=5, id2word=dictionary, passes=5)\n",
        "\n",
        "# Save the topics and top 5 words\n",
        "topics = ldamodel.print_topics(num_words=5)\n",
        "\n",
        "# Print the results\n",
        "for topic in topics:\n",
        "    print(topic)"
      ]
    },
    {
      "cell_type": "markdown",
      "metadata": {
        "id": "lN4iT2NlYNub"
      },
      "source": [
        "kita sekarang telah berhasil membuat model topik pertama kita pada data email Enron. Namun, cetakan kata-kata tidak benar-benar memberi kita informasi yang cukup untuk menemukan topik yang mungkin mengarahkan kita ke tanda-tanda penipuan. Oleh karena itu, kita harus memeriksa hasil model dengan cermat agar dapat mendeteksi apa pun yang dapat dikaitkan dengan penipuan dalam data kita"
      ]
    },
    {
      "cell_type": "markdown",
      "metadata": {
        "id": "AgQYu4_3YNuc"
      },
      "source": [
        "### menemukan penipu berdasarkan topik"
      ]
    },
    {
      "cell_type": "code",
      "execution_count": null,
      "metadata": {
        "id": "xyS7MF92YNuc"
      },
      "outputs": [],
      "source": [
        "def get_topic_details(ldamodel, corpus):\n",
        "    topic_details_df = pd.DataFrame()\n",
        "    for i, row in enumerate(ldamodel[corpus]):\n",
        "        row = sorted(row, key=lambda x: (x[1]), reverse=True)\n",
        "        for j, (topic_num, prop_topic) in enumerate(row):\n",
        "            if j == 0:  # => topik dominan\n",
        "                wp = ldamodel.show_topic(topic_num)\n",
        "                topic_keywords = \", \".join([word for word, prop in wp])\n",
        "                topic_details_df = topic_details_df.append(pd.Series([int(topic_num), round(prop_topic,4), topic_keywords]), ignore_index=True)\n",
        "    topic_details_df.columns = ['Dominant_Topic', '% Score', 'Topic_Keywords']\n",
        "    return topic_details_df"
      ]
    },
    {
      "cell_type": "code",
      "execution_count": null,
      "metadata": {
        "id": "WTTxF_1kYNud",
        "outputId": "8529a409-44e9-4a0e-ef2e-7000f108864a"
      },
      "outputs": [
        {
          "name": "stdout",
          "output_type": "stream",
          "text": [
            "      Dominant_Topic  % Score  \\\n",
            "0                4.0   0.9486   \n",
            "1                3.0   0.3729   \n",
            "2                3.0   0.8979   \n",
            "3                4.0   0.9935   \n",
            "4                4.0   0.9934   \n",
            "5                4.0   0.9934   \n",
            "6                4.0   0.6020   \n",
            "7                4.0   0.9934   \n",
            "8                3.0   0.8718   \n",
            "9                4.0   0.9934   \n",
            "10               4.0   0.9935   \n",
            "11               4.0   0.9240   \n",
            "12               4.0   0.9945   \n",
            "13               4.0   0.9506   \n",
            "14               4.0   0.9506   \n",
            "15               4.0   0.9934   \n",
            "16               4.0   0.7503   \n",
            "17               3.0   0.5102   \n",
            "18               1.0   0.5662   \n",
            "19               4.0   0.8777   \n",
            "20               4.0   0.9933   \n",
            "21               4.0   0.9941   \n",
            "22               4.0   0.9933   \n",
            "23               4.0   0.9934   \n",
            "24               4.0   0.9227   \n",
            "25               4.0   0.8954   \n",
            "26               4.0   0.9931   \n",
            "27               4.0   0.9686   \n",
            "28               4.0   0.5371   \n",
            "29               4.0   0.9684   \n",
            "...              ...      ...   \n",
            "2056             3.0   0.9936   \n",
            "2057             4.0   0.9953   \n",
            "2058             0.0   0.9813   \n",
            "2059             0.0   0.8849   \n",
            "2060             3.0   0.9330   \n",
            "2061             3.0   0.9880   \n",
            "2062             3.0   0.9634   \n",
            "2063             3.0   0.9634   \n",
            "2064             3.0   0.9330   \n",
            "2065             0.0   0.9458   \n",
            "2066             3.0   0.9769   \n",
            "2067             1.0   0.9495   \n",
            "2068             1.0   0.9817   \n",
            "2069             3.0   0.7980   \n",
            "2070             3.0   0.9950   \n",
            "2071             1.0   0.9932   \n",
            "2072             3.0   0.9977   \n",
            "2073             1.0   0.9797   \n",
            "2074             1.0   0.9782   \n",
            "2075             3.0   0.9946   \n",
            "2076             3.0   0.9943   \n",
            "2077             2.0   0.9996   \n",
            "2078             2.0   0.5514   \n",
            "2079             3.0   0.9265   \n",
            "2080             0.0   0.8991   \n",
            "2081             3.0   0.9103   \n",
            "2082             3.0   0.5998   \n",
            "2083             0.0   0.9993   \n",
            "2084             1.0   0.9897   \n",
            "2085             3.0   0.9884   \n",
            "\n",
            "                                         Topic_Keywords  \n",
            "0     enron, company, energy, stock, employee, new, ...  \n",
            "1     enron, message, original, hou, pm, please, cor...  \n",
            "2     enron, message, original, hou, pm, please, cor...  \n",
            "3     enron, company, energy, stock, employee, new, ...  \n",
            "4     enron, company, energy, stock, employee, new, ...  \n",
            "5     enron, company, energy, stock, employee, new, ...  \n",
            "6     enron, company, energy, stock, employee, new, ...  \n",
            "7     enron, company, energy, stock, employee, new, ...  \n",
            "8     enron, message, original, hou, pm, please, cor...  \n",
            "9     enron, company, energy, stock, employee, new, ...  \n",
            "10    enron, company, energy, stock, employee, new, ...  \n",
            "11    enron, company, energy, stock, employee, new, ...  \n",
            "12    enron, company, energy, stock, employee, new, ...  \n",
            "13    enron, company, energy, stock, employee, new, ...  \n",
            "14    enron, company, energy, stock, employee, new, ...  \n",
            "15    enron, company, energy, stock, employee, new, ...  \n",
            "16    enron, company, energy, stock, employee, new, ...  \n",
            "17    enron, message, original, hou, pm, please, cor...  \n",
            "18    e, bakernet, market, mail, service, time, new,...  \n",
            "19    enron, company, energy, stock, employee, new, ...  \n",
            "20    enron, company, energy, stock, employee, new, ...  \n",
            "21    enron, company, energy, stock, employee, new, ...  \n",
            "22    enron, company, energy, stock, employee, new, ...  \n",
            "23    enron, company, energy, stock, employee, new, ...  \n",
            "24    enron, company, energy, stock, employee, new, ...  \n",
            "25    enron, company, energy, stock, employee, new, ...  \n",
            "26    enron, company, energy, stock, employee, new, ...  \n",
            "27    enron, company, energy, stock, employee, new, ...  \n",
            "28    enron, company, energy, stock, employee, new, ...  \n",
            "29    enron, company, energy, stock, employee, new, ...  \n",
            "...                                                 ...  \n",
            "2056  enron, message, original, hou, pm, please, cor...  \n",
            "2057  enron, company, energy, stock, employee, new, ...  \n",
            "2058     image, se, ne, sp, wscc, click, sw, hp, nw, rk  \n",
            "2059     image, se, ne, sp, wscc, click, sw, hp, nw, rk  \n",
            "2060  enron, message, original, hou, pm, please, cor...  \n",
            "2061  enron, message, original, hou, pm, please, cor...  \n",
            "2062  enron, message, original, hou, pm, please, cor...  \n",
            "2063  enron, message, original, hou, pm, please, cor...  \n",
            "2064  enron, message, original, hou, pm, please, cor...  \n",
            "2065     image, se, ne, sp, wscc, click, sw, hp, nw, rk  \n",
            "2066  enron, message, original, hou, pm, please, cor...  \n",
            "2067  e, bakernet, market, mail, service, time, new,...  \n",
            "2068  e, bakernet, market, mail, service, time, new,...  \n",
            "2069  enron, message, original, hou, pm, please, cor...  \n",
            "2070  enron, message, original, hou, pm, please, cor...  \n",
            "2071  e, bakernet, market, mail, service, time, new,...  \n",
            "2072  enron, message, original, hou, pm, please, cor...  \n",
            "2073  e, bakernet, market, mail, service, time, new,...  \n",
            "2074  e, bakernet, market, mail, service, time, new,...  \n",
            "2075  enron, message, original, hou, pm, please, cor...  \n",
            "2076  enron, message, original, hou, pm, please, cor...  \n",
            "2077  td, net, money, tr, width, class, height, tabl...  \n",
            "2078  td, net, money, tr, width, class, height, tabl...  \n",
            "2079  enron, message, original, hou, pm, please, cor...  \n",
            "2080     image, se, ne, sp, wscc, click, sw, hp, nw, rk  \n",
            "2081  enron, message, original, hou, pm, please, cor...  \n",
            "2082  enron, message, original, hou, pm, please, cor...  \n",
            "2083     image, se, ne, sp, wscc, click, sw, hp, nw, rk  \n",
            "2084  e, bakernet, market, mail, service, time, new,...  \n",
            "2085  enron, message, original, hou, pm, please, cor...  \n",
            "\n",
            "[2086 rows x 3 columns]\n"
          ]
        }
      ],
      "source": [
        "# jalankan fungsi get_topic_details dan periksa hasilnya\n",
        "print(get_topic_details(ldamodel, corpus))"
      ]
    },
    {
      "cell_type": "code",
      "execution_count": null,
      "metadata": {
        "id": "9Cq1ECB3YNud",
        "outputId": "ae9392ba-d556-48bb-e6e7-6b2771619157"
      },
      "outputs": [
        {
          "data": {
            "text/html": [
              "<div>\n",
              "<style scoped>\n",
              "    .dataframe tbody tr th:only-of-type {\n",
              "        vertical-align: middle;\n",
              "    }\n",
              "\n",
              "    .dataframe tbody tr th {\n",
              "        vertical-align: top;\n",
              "    }\n",
              "\n",
              "    .dataframe thead th {\n",
              "        text-align: right;\n",
              "    }\n",
              "</style>\n",
              "<table border=\"1\" class=\"dataframe\">\n",
              "  <thead>\n",
              "    <tr style=\"text-align: right;\">\n",
              "      <th></th>\n",
              "      <th>Dominant_Topic</th>\n",
              "      <th>% Score</th>\n",
              "      <th>Topic_Keywords</th>\n",
              "      <th>Original text</th>\n",
              "    </tr>\n",
              "  </thead>\n",
              "  <tbody>\n",
              "    <tr>\n",
              "      <th>0</th>\n",
              "      <td>4.0</td>\n",
              "      <td>0.9486</td>\n",
              "      <td>enron, company, energy, stock, employee, new, ...</td>\n",
              "      <td>[investools, advisory, free, digest, trusted, ...</td>\n",
              "    </tr>\n",
              "    <tr>\n",
              "      <th>1</th>\n",
              "      <td>3.0</td>\n",
              "      <td>0.3729</td>\n",
              "      <td>enron, message, original, hou, pm, please, cor...</td>\n",
              "      <td>[forwarded, richard, b, sander, hou, pm, justi...</td>\n",
              "    </tr>\n",
              "    <tr>\n",
              "      <th>2</th>\n",
              "      <td>3.0</td>\n",
              "      <td>0.8978</td>\n",
              "      <td>enron, message, original, hou, pm, please, cor...</td>\n",
              "      <td>[hey, wearing, target, purple, shirt, today, m...</td>\n",
              "    </tr>\n",
              "    <tr>\n",
              "      <th>3</th>\n",
              "      <td>4.0</td>\n",
              "      <td>0.9935</td>\n",
              "      <td>enron, company, energy, stock, employee, new, ...</td>\n",
              "      <td>[leslie, milosevich, santa, clara, avenue, ala...</td>\n",
              "    </tr>\n",
              "    <tr>\n",
              "      <th>4</th>\n",
              "      <td>4.0</td>\n",
              "      <td>0.9934</td>\n",
              "      <td>enron, company, energy, stock, employee, new, ...</td>\n",
              "      <td>[rini, twait, e, th, ave, longmont, co, rtwait...</td>\n",
              "    </tr>\n",
              "  </tbody>\n",
              "</table>\n",
              "</div>"
            ],
            "text/plain": [
              "   Dominant_Topic  % Score                                     Topic_Keywords  \\\n",
              "0             4.0   0.9486  enron, company, energy, stock, employee, new, ...   \n",
              "1             3.0   0.3729  enron, message, original, hou, pm, please, cor...   \n",
              "2             3.0   0.8978  enron, message, original, hou, pm, please, cor...   \n",
              "3             4.0   0.9935  enron, company, energy, stock, employee, new, ...   \n",
              "4             4.0   0.9934  enron, company, energy, stock, employee, new, ...   \n",
              "\n",
              "                                       Original text  \n",
              "0  [investools, advisory, free, digest, trusted, ...  \n",
              "1  [forwarded, richard, b, sander, hou, pm, justi...  \n",
              "2  [hey, wearing, target, purple, shirt, today, m...  \n",
              "3  [leslie, milosevich, santa, clara, avenue, ala...  \n",
              "4  [rini, twait, e, th, ave, longmont, co, rtwait...  "
            ]
          },
          "execution_count": 143,
          "metadata": {},
          "output_type": "execute_result"
        }
      ],
      "source": [
        "# tambahkan teks asli ke detail topik dalam kerangka data\n",
        "contents = pd.DataFrame({'Original text': text_clean})\n",
        "topic_details = pd.concat([get_topic_details(ldamodel, corpus), contents], axis=1)\n",
        "topic_details.head()"
      ]
    },
    {
      "cell_type": "code",
      "execution_count": null,
      "metadata": {
        "id": "DFCyNOJOYNue",
        "outputId": "c383c969-65ed-427e-d6e5-034453678005"
      },
      "outputs": [
        {
          "name": "stdout",
          "output_type": "stream",
          "text": [
            "   Dominant_Topic  % Score                                     Topic_Keywords  \\\n",
            "0             4.0   0.9486  enron, company, energy, stock, employee, new, ...   \n",
            "1             3.0   0.3729  enron, message, original, hou, pm, please, cor...   \n",
            "2             3.0   0.8978  enron, message, original, hou, pm, please, cor...   \n",
            "3             4.0   0.9935  enron, company, energy, stock, employee, new, ...   \n",
            "4             4.0   0.9934  enron, company, energy, stock, employee, new, ...   \n",
            "\n",
            "                                       Original text  flag  \n",
            "0  [investools, advisory, free, digest, trusted, ...     0  \n",
            "1  [forwarded, richard, b, sander, hou, pm, justi...     1  \n",
            "2  [hey, wearing, target, purple, shirt, today, m...     1  \n",
            "3  [leslie, milosevich, santa, clara, avenue, ala...     0  \n",
            "4  [rini, twait, e, th, ave, longmont, co, rtwait...     0  \n"
          ]
        }
      ],
      "source": [
        "topic_details['flag'] = np.where((topic_details['Dominant_Topic'] == 3.0), 1, 0)\n",
        "print(topic_details.head())"
      ]
    }
  ],
  "metadata": {
    "kernelspec": {
      "display_name": "Python 3",
      "language": "python",
      "name": "python3"
    },
    "language_info": {
      "codemirror_mode": {
        "name": "ipython",
        "version": 3
      },
      "file_extension": ".py",
      "mimetype": "text/x-python",
      "name": "python",
      "nbconvert_exporter": "python",
      "pygments_lexer": "ipython3",
      "version": "3.6.7"
    },
    "colab": {
      "provenance": []
    }
  },
  "nbformat": 4,
  "nbformat_minor": 0
}